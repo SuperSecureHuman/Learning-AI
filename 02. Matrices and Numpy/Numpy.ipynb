{
 "cells": [
  {
   "cell_type": "code",
   "execution_count": 1,
   "metadata": {},
   "outputs": [],
   "source": [
    "import numpy as np "
   ]
  },
  {
   "cell_type": "code",
   "execution_count": 5,
   "metadata": {},
   "outputs": [
    {
     "name": "stdout",
     "output_type": "stream",
     "text": [
      "()\n",
      "<class 'numpy.ndarray'>\n"
     ]
    }
   ],
   "source": [
    "#Creating a scalar array in numpy\n",
    "s = np.array(5)\n",
    "#Shape of our scala array (it is 0 dimensional data)\n",
    "print(s.shape)\n",
    "\n",
    "#Checking the type of our array\n",
    "print(type(s))"
   ]
  },
  {
   "cell_type": "code",
   "execution_count": 8,
   "metadata": {},
   "outputs": [
    {
     "name": "stdout",
     "output_type": "stream",
     "text": [
      "3\n",
      "[2 3]\n"
     ]
    }
   ],
   "source": [
    "#Creating a vector\n",
    "v = np.array([1,2,3])\n",
    "\n",
    "#Accessing a element\n",
    "print(v[2])\n",
    "\n",
    "#Printing elements from position 2\n",
    "\n",
    "print(v[1:])"
   ]
  },
  {
   "cell_type": "code",
   "execution_count": 9,
   "metadata": {},
   "outputs": [
    {
     "name": "stdout",
     "output_type": "stream",
     "text": [
      "[[1 2 3]\n",
      " [4 5 6]\n",
      " [7 8 9]]\n"
     ]
    }
   ],
   "source": [
    "#You can even make matrices\n",
    "m = np.array([[1,2,3], [4,5,6], [7,8,9]])\n",
    "\n",
    "print(m)"
   ]
  },
  {
   "cell_type": "code",
   "execution_count": 11,
   "metadata": {},
   "outputs": [
    {
     "name": "stdout",
     "output_type": "stream",
     "text": [
      "[[[[ 1]\n",
      "   [ 2]]\n",
      "\n",
      "  [[ 3]\n",
      "   [ 4]]\n",
      "\n",
      "  [[ 5]\n",
      "   [ 6]]]\n",
      "\n",
      "\n",
      " [[[ 7]\n",
      "   [ 8]]\n",
      "\n",
      "  [[ 9]\n",
      "   [10]]\n",
      "\n",
      "  [[11]\n",
      "   [12]]]\n",
      "\n",
      "\n",
      " [[[13]\n",
      "   [14]]\n",
      "\n",
      "  [[15]\n",
      "   [16]]\n",
      "\n",
      "  [[17]\n",
      "   [17]]]]\n"
     ]
    }
   ],
   "source": [
    "#Random multi-dim tensor\n",
    "\n",
    "t = np.array([[[[1],[2]],[[3],[4]],[[5],[6]]],[[[7],[8]],\\\n",
    "    [[9],[10]],[[11],[12]]],[[[13],[14]],[[15],[16]],[[17],[17]]]])\n",
    "\n",
    "print(t)"
   ]
  },
  {
   "cell_type": "code",
   "execution_count": 13,
   "metadata": {},
   "outputs": [
    {
     "name": "stdout",
     "output_type": "stream",
     "text": [
      "(4,)\n",
      "[1 2 3 4]\n",
      "\n",
      "(1, 4)\n",
      "[[1 2 3 4]]\n",
      "\n",
      "(4, 1)\n",
      "[[1]\n",
      " [2]\n",
      " [3]\n",
      " [4]]\n",
      "\n"
     ]
    }
   ],
   "source": [
    "#changing shape of array\n",
    "\n",
    "v = np.array([1,2,3,4])\n",
    "\n",
    "print(np.shape(v))\n",
    "print(v)\n",
    "print(\"\")\n",
    "\n",
    "v = v.reshape(1,4)\n",
    "print(np.shape(v))\n",
    "print(v)\n",
    "print(\"\")\n",
    "\n",
    "v = v.reshape(4,1)\n",
    "print(np.shape(v))\n",
    "print(v)\n",
    "print(\"\")"
   ]
  }
 ],
 "metadata": {
  "interpreter": {
   "hash": "9aeb3df5fbd6abcbd1bcdbd5cd117a35ff65e92160c2808640f7d55a504d1a5d"
  },
  "kernelspec": {
   "display_name": "Python 3.8.12 ('python38')",
   "language": "python",
   "name": "python3"
  },
  "language_info": {
   "codemirror_mode": {
    "name": "ipython",
    "version": 3
   },
   "file_extension": ".py",
   "mimetype": "text/x-python",
   "name": "python",
   "nbconvert_exporter": "python",
   "pygments_lexer": "ipython3",
   "version": "3.8.12"
  },
  "orig_nbformat": 4
 },
 "nbformat": 4,
 "nbformat_minor": 2
}
